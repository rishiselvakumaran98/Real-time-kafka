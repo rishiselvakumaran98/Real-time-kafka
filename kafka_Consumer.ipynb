{
  "nbformat": 4,
  "nbformat_minor": 0,
  "metadata": {
    "colab": {
      "provenance": [],
      "authorship_tag": "ABX9TyN+/0L7NA/VE6GSz6FmZnj7",
      "include_colab_link": true
    },
    "kernelspec": {
      "name": "python3",
      "display_name": "Python 3"
    },
    "language_info": {
      "name": "python"
    }
  },
  "cells": [
    {
      "cell_type": "markdown",
      "metadata": {
        "id": "view-in-github",
        "colab_type": "text"
      },
      "source": [
        "<a href=\"https://colab.research.google.com/github/rishiselvakumaran98/Real-time-kafka/blob/main/kafka_Consumer.ipynb\" target=\"_parent\"><img src=\"https://colab.research.google.com/assets/colab-badge.svg\" alt=\"Open In Colab\"/></a>"
      ]
    },
    {
      "cell_type": "code",
      "execution_count": null,
      "metadata": {
        "id": "dr8xuAa8wET_"
      },
      "outputs": [],
      "source": [
        "# !pip install kafka-python\n",
        "!pip install s3fs"
      ]
    },
    {
      "cell_type": "code",
      "source": [
        "import pandas as pd\n",
        "from kafka import KafkaConsumer\n",
        "from time import sleep\n",
        "from json import dumps, loads\n",
        "import json\n",
        "from s3fs import S3FileSystem"
      ],
      "metadata": {
        "id": "GmzEck7lz3-e"
      },
      "execution_count": 3,
      "outputs": []
    },
    {
      "cell_type": "code",
      "source": [
        "consumer = KafkaConsumer('demo_test', bootstrap_servers=['server_ip:9092'],\n",
        "                         value_deserializer=lambda x: loads(x.decode('utf-8')))"
      ],
      "metadata": {
        "id": "tz7oqiyqz57e"
      },
      "execution_count": null,
      "outputs": []
    },
    {
      "cell_type": "code",
      "source": [
        "# for c in consumer:\n",
        "#   print(c.value)"
      ],
      "metadata": {
        "id": "sbX7cHAs1qqm"
      },
      "execution_count": null,
      "outputs": []
    },
    {
      "cell_type": "code",
      "source": [
        "s3 = S3FileSystem()"
      ],
      "metadata": {
        "id": "Eo4-sIRI8kwo"
      },
      "execution_count": null,
      "outputs": []
    },
    {
      "cell_type": "code",
      "source": [
        "for count, i in enumerate(consumer):\n",
        "  with s3.open(\"s3://bucket_name/stock_market_{}.json\".format(count), ) as file\n",
        "  json.dump(i.value, file)"
      ],
      "metadata": {
        "id": "MzEoR-yu8pNh"
      },
      "execution_count": null,
      "outputs": []
    }
  ]
}